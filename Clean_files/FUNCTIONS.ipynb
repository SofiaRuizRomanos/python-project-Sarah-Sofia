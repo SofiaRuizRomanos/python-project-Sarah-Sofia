{
 "cells": [
  {
   "cell_type": "markdown",
   "metadata": {},
   "source": [
    "This file stores all the functions used to plot the charts in our main file to avoid copying and pasting codes for similar charts with just different inputs\n",
    "\n",
    "You can call the functions by importing them the same way as you import a package. \n",
    "Example. if the function you want to use is in a file called \"FUNCTIONS\" like this one and the function you want to import is called \"histogram\"\n",
    "you just do \n",
    "- from FUNCTIONS import histogram\n"
   ]
  },
  {
   "cell_type": "code",
   "execution_count": 1,
   "metadata": {},
   "outputs": [],
   "source": [
    "import pandas as pd \n",
    "import numpy as np\n",
    "import seaborn as sns\n",
    "import matplotlib.pyplot as plt\n",
    "from scipy import stats"
   ]
  },
  {
   "cell_type": "markdown",
   "metadata": {},
   "source": [
    "Reminder to myself: functions we need to build \n",
    "- for the kdeplot (distribution chart) \n",
    "- bars plotting (basic one + proprotions and variables interaction one) attention aux différents cas\n",
    "- the pie plot for the credit score "
   ]
  },
  {
   "cell_type": "code",
   "execution_count": 2,
   "metadata": {},
   "outputs": [],
   "source": [
    "def plot_density(\n",
    "    data, \n",
    "    x_col, \n",
    "    hue_col=None, \n",
    "    fill=True, \n",
    "    title=None, \n",
    "    xlabel=None, \n",
    "    ylabel='Density'):\n",
    "    \"\"\"\n",
    "    Generates a density plot for a given dataset.\n",
    "\n",
    "    Parameters (those are the inputs you have to enter in your main code):\n",
    "    - data: the dataset to plot\n",
    "    - x_col: the column to plot the density for\n",
    "    - hue_col: the column to group data by different categories (e.g., 'Geography')\n",
    "    - fill: whether to fill the area under the curve (default: True)\n",
    "    - title: the title of the plot\n",
    "    - xlabel: the label for the x-axis\n",
    "    - ylabel: str, optional, the label for the y-axis (default: 'Density')\n",
    "    \"\"\"\n",
    "\n",
    "    sns.kdeplot(data=data, x=x_col, hue=hue_col, fill=fill)\n",
    "    \n",
    "    # Set plot title and labels\n",
    "    if title:\n",
    "        plt.title(title)\n",
    "    if xlabel:\n",
    "        plt.xlabel(xlabel)\n",
    "    else:\n",
    "        plt.xlabel(x_col)\n",
    "    plt.ylabel(ylabel)\n",
    "    \n",
    "\n",
    "    plt.show()\n"
   ]
  }
 ],
 "metadata": {
  "kernelspec": {
   "display_name": "base",
   "language": "python",
   "name": "python3"
  },
  "language_info": {
   "codemirror_mode": {
    "name": "ipython",
    "version": 3
   },
   "file_extension": ".py",
   "mimetype": "text/x-python",
   "name": "python",
   "nbconvert_exporter": "python",
   "pygments_lexer": "ipython3",
   "version": "3.12.3"
  }
 },
 "nbformat": 4,
 "nbformat_minor": 2
}
