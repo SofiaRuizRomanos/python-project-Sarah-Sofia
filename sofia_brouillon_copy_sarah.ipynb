{
 "cells": [
  {
   "cell_type": "code",
   "execution_count": 62,
   "metadata": {},
   "outputs": [],
   "source": [
    "import pandas as pd \n",
    "import numpy as np\n",
    "import seaborn as sns\n",
    "import matplotlib.pyplot as plt "
   ]
  },
  {
   "cell_type": "markdown",
   "metadata": {},
   "source": [
    "LOADING THE DATA"
   ]
  },
  {
   "cell_type": "code",
   "execution_count": 120,
   "metadata": {},
   "outputs": [],
   "source": [
    "df = pd.read_csv(\"churn_bank.csv\") #if already in the repo, otherwise use the full path"
   ]
  },
  {
   "cell_type": "code",
   "execution_count": 91,
   "metadata": {},
   "outputs": [],
   "source": [
    "NRows = df.shape[0]\n",
    "NColumns = df.shape[1]"
   ]
  },
  {
   "cell_type": "markdown",
   "metadata": {},
   "source": [
    "Who has exited the bank?\n",
    "Use `.loc` to select columns or rows meeting a condition.\n",
    "\n",
    "Use `.describe()` to generate descriptive statistics (include those that summarize the central tendency, dispersion and shape of a dataset’s distribution, excluding NaN values)."
   ]
  },
  {
   "cell_type": "code",
   "execution_count": 64,
   "metadata": {},
   "outputs": [
    {
     "data": {
      "text/html": [
       "<div>\n",
       "<style scoped>\n",
       "    .dataframe tbody tr th:only-of-type {\n",
       "        vertical-align: middle;\n",
       "    }\n",
       "\n",
       "    .dataframe tbody tr th {\n",
       "        vertical-align: top;\n",
       "    }\n",
       "\n",
       "    .dataframe thead th {\n",
       "        text-align: right;\n",
       "    }\n",
       "</style>\n",
       "<table border=\"1\" class=\"dataframe\">\n",
       "  <thead>\n",
       "    <tr style=\"text-align: right;\">\n",
       "      <th></th>\n",
       "      <th>count</th>\n",
       "      <th>mean</th>\n",
       "      <th>std</th>\n",
       "      <th>min</th>\n",
       "      <th>25%</th>\n",
       "      <th>50%</th>\n",
       "      <th>75%</th>\n",
       "      <th>max</th>\n",
       "    </tr>\n",
       "  </thead>\n",
       "  <tbody>\n",
       "    <tr>\n",
       "      <th>CustomerId</th>\n",
       "      <td>2037.0</td>\n",
       "      <td>1.569005e+07</td>\n",
       "      <td>72692.623920</td>\n",
       "      <td>15565706.00</td>\n",
       "      <td>15627360.00</td>\n",
       "      <td>15688963.00</td>\n",
       "      <td>15753092.00</td>\n",
       "      <td>15815656.00</td>\n",
       "    </tr>\n",
       "    <tr>\n",
       "      <th>CreditScore</th>\n",
       "      <td>2037.0</td>\n",
       "      <td>6.453515e+02</td>\n",
       "      <td>100.321503</td>\n",
       "      <td>350.00</td>\n",
       "      <td>578.00</td>\n",
       "      <td>646.00</td>\n",
       "      <td>716.00</td>\n",
       "      <td>850.00</td>\n",
       "    </tr>\n",
       "    <tr>\n",
       "      <th>Age</th>\n",
       "      <td>2037.0</td>\n",
       "      <td>4.483800e+01</td>\n",
       "      <td>9.761562</td>\n",
       "      <td>18.00</td>\n",
       "      <td>38.00</td>\n",
       "      <td>45.00</td>\n",
       "      <td>51.00</td>\n",
       "      <td>84.00</td>\n",
       "    </tr>\n",
       "    <tr>\n",
       "      <th>Tenure</th>\n",
       "      <td>2037.0</td>\n",
       "      <td>4.932744e+00</td>\n",
       "      <td>2.936106</td>\n",
       "      <td>0.00</td>\n",
       "      <td>2.00</td>\n",
       "      <td>5.00</td>\n",
       "      <td>8.00</td>\n",
       "      <td>10.00</td>\n",
       "    </tr>\n",
       "    <tr>\n",
       "      <th>Balance</th>\n",
       "      <td>2037.0</td>\n",
       "      <td>9.110854e+04</td>\n",
       "      <td>58360.794816</td>\n",
       "      <td>0.00</td>\n",
       "      <td>38340.02</td>\n",
       "      <td>109349.29</td>\n",
       "      <td>131433.33</td>\n",
       "      <td>250898.09</td>\n",
       "    </tr>\n",
       "    <tr>\n",
       "      <th>NumOfProducts</th>\n",
       "      <td>2037.0</td>\n",
       "      <td>1.475209e+00</td>\n",
       "      <td>0.801521</td>\n",
       "      <td>1.00</td>\n",
       "      <td>1.00</td>\n",
       "      <td>1.00</td>\n",
       "      <td>2.00</td>\n",
       "      <td>4.00</td>\n",
       "    </tr>\n",
       "    <tr>\n",
       "      <th>HasCrCard</th>\n",
       "      <td>2037.0</td>\n",
       "      <td>6.990673e-01</td>\n",
       "      <td>0.458776</td>\n",
       "      <td>0.00</td>\n",
       "      <td>0.00</td>\n",
       "      <td>1.00</td>\n",
       "      <td>1.00</td>\n",
       "      <td>1.00</td>\n",
       "    </tr>\n",
       "    <tr>\n",
       "      <th>IsActiveMember</th>\n",
       "      <td>2037.0</td>\n",
       "      <td>3.608247e-01</td>\n",
       "      <td>0.480358</td>\n",
       "      <td>0.00</td>\n",
       "      <td>0.00</td>\n",
       "      <td>0.00</td>\n",
       "      <td>1.00</td>\n",
       "      <td>1.00</td>\n",
       "    </tr>\n",
       "    <tr>\n",
       "      <th>EstimatedSalary</th>\n",
       "      <td>2037.0</td>\n",
       "      <td>1.014657e+05</td>\n",
       "      <td>57912.418071</td>\n",
       "      <td>11.58</td>\n",
       "      <td>51907.72</td>\n",
       "      <td>102460.84</td>\n",
       "      <td>152422.91</td>\n",
       "      <td>199808.10</td>\n",
       "    </tr>\n",
       "    <tr>\n",
       "      <th>Exited</th>\n",
       "      <td>2037.0</td>\n",
       "      <td>1.000000e+00</td>\n",
       "      <td>0.000000</td>\n",
       "      <td>1.00</td>\n",
       "      <td>1.00</td>\n",
       "      <td>1.00</td>\n",
       "      <td>1.00</td>\n",
       "      <td>1.00</td>\n",
       "    </tr>\n",
       "  </tbody>\n",
       "</table>\n",
       "</div>"
      ],
      "text/plain": [
       "                  count          mean           std          min          25%  \\\n",
       "CustomerId       2037.0  1.569005e+07  72692.623920  15565706.00  15627360.00   \n",
       "CreditScore      2037.0  6.453515e+02    100.321503       350.00       578.00   \n",
       "Age              2037.0  4.483800e+01      9.761562        18.00        38.00   \n",
       "Tenure           2037.0  4.932744e+00      2.936106         0.00         2.00   \n",
       "Balance          2037.0  9.110854e+04  58360.794816         0.00     38340.02   \n",
       "NumOfProducts    2037.0  1.475209e+00      0.801521         1.00         1.00   \n",
       "HasCrCard        2037.0  6.990673e-01      0.458776         0.00         0.00   \n",
       "IsActiveMember   2037.0  3.608247e-01      0.480358         0.00         0.00   \n",
       "EstimatedSalary  2037.0  1.014657e+05  57912.418071        11.58     51907.72   \n",
       "Exited           2037.0  1.000000e+00      0.000000         1.00         1.00   \n",
       "\n",
       "                         50%          75%          max  \n",
       "CustomerId       15688963.00  15753092.00  15815656.00  \n",
       "CreditScore           646.00       716.00       850.00  \n",
       "Age                    45.00        51.00        84.00  \n",
       "Tenure                  5.00         8.00        10.00  \n",
       "Balance            109349.29    131433.33    250898.09  \n",
       "NumOfProducts           1.00         2.00         4.00  \n",
       "HasCrCard               1.00         1.00         1.00  \n",
       "IsActiveMember          0.00         1.00         1.00  \n",
       "EstimatedSalary    102460.84    152422.91    199808.10  \n",
       "Exited                  1.00         1.00         1.00  "
      ]
     },
     "execution_count": 64,
     "metadata": {},
     "output_type": "execute_result"
    }
   ],
   "source": [
    "df_exited = df.loc[df[\"Exited\"]==1]\n",
    "df_exited.describe().T"
   ]
  },
  {
   "cell_type": "code",
   "execution_count": 65,
   "metadata": {},
   "outputs": [
    {
     "data": {
      "text/html": [
       "<div>\n",
       "<style scoped>\n",
       "    .dataframe tbody tr th:only-of-type {\n",
       "        vertical-align: middle;\n",
       "    }\n",
       "\n",
       "    .dataframe tbody tr th {\n",
       "        vertical-align: top;\n",
       "    }\n",
       "\n",
       "    .dataframe thead th {\n",
       "        text-align: right;\n",
       "    }\n",
       "</style>\n",
       "<table border=\"1\" class=\"dataframe\">\n",
       "  <thead>\n",
       "    <tr style=\"text-align: right;\">\n",
       "      <th></th>\n",
       "      <th>count</th>\n",
       "      <th>mean</th>\n",
       "      <th>std</th>\n",
       "      <th>min</th>\n",
       "      <th>25%</th>\n",
       "      <th>50%</th>\n",
       "      <th>75%</th>\n",
       "      <th>max</th>\n",
       "    </tr>\n",
       "  </thead>\n",
       "  <tbody>\n",
       "    <tr>\n",
       "      <th>CustomerId</th>\n",
       "      <td>7963.0</td>\n",
       "      <td>1.569117e+07</td>\n",
       "      <td>71744.234941</td>\n",
       "      <td>15565701.00</td>\n",
       "      <td>15628818.50</td>\n",
       "      <td>15691543.00</td>\n",
       "      <td>1.575335e+07</td>\n",
       "      <td>15815690.00</td>\n",
       "    </tr>\n",
       "    <tr>\n",
       "      <th>CreditScore</th>\n",
       "      <td>7963.0</td>\n",
       "      <td>6.518532e+02</td>\n",
       "      <td>95.653837</td>\n",
       "      <td>405.00</td>\n",
       "      <td>585.00</td>\n",
       "      <td>653.00</td>\n",
       "      <td>7.180000e+02</td>\n",
       "      <td>850.00</td>\n",
       "    </tr>\n",
       "    <tr>\n",
       "      <th>Age</th>\n",
       "      <td>7963.0</td>\n",
       "      <td>3.740839e+01</td>\n",
       "      <td>10.125363</td>\n",
       "      <td>18.00</td>\n",
       "      <td>31.00</td>\n",
       "      <td>36.00</td>\n",
       "      <td>4.100000e+01</td>\n",
       "      <td>92.00</td>\n",
       "    </tr>\n",
       "    <tr>\n",
       "      <th>Tenure</th>\n",
       "      <td>7963.0</td>\n",
       "      <td>5.033279e+00</td>\n",
       "      <td>2.880658</td>\n",
       "      <td>0.00</td>\n",
       "      <td>3.00</td>\n",
       "      <td>5.00</td>\n",
       "      <td>7.000000e+00</td>\n",
       "      <td>10.00</td>\n",
       "    </tr>\n",
       "    <tr>\n",
       "      <th>Balance</th>\n",
       "      <td>7963.0</td>\n",
       "      <td>7.274530e+04</td>\n",
       "      <td>62848.040701</td>\n",
       "      <td>0.00</td>\n",
       "      <td>0.00</td>\n",
       "      <td>92072.68</td>\n",
       "      <td>1.264103e+05</td>\n",
       "      <td>221532.80</td>\n",
       "    </tr>\n",
       "    <tr>\n",
       "      <th>NumOfProducts</th>\n",
       "      <td>7963.0</td>\n",
       "      <td>1.544267e+00</td>\n",
       "      <td>0.509536</td>\n",
       "      <td>1.00</td>\n",
       "      <td>1.00</td>\n",
       "      <td>2.00</td>\n",
       "      <td>2.000000e+00</td>\n",
       "      <td>3.00</td>\n",
       "    </tr>\n",
       "    <tr>\n",
       "      <th>HasCrCard</th>\n",
       "      <td>7963.0</td>\n",
       "      <td>7.071455e-01</td>\n",
       "      <td>0.455101</td>\n",
       "      <td>0.00</td>\n",
       "      <td>0.00</td>\n",
       "      <td>1.00</td>\n",
       "      <td>1.000000e+00</td>\n",
       "      <td>1.00</td>\n",
       "    </tr>\n",
       "    <tr>\n",
       "      <th>IsActiveMember</th>\n",
       "      <td>7963.0</td>\n",
       "      <td>5.545649e-01</td>\n",
       "      <td>0.497045</td>\n",
       "      <td>0.00</td>\n",
       "      <td>0.00</td>\n",
       "      <td>1.00</td>\n",
       "      <td>1.000000e+00</td>\n",
       "      <td>1.00</td>\n",
       "    </tr>\n",
       "    <tr>\n",
       "      <th>EstimatedSalary</th>\n",
       "      <td>7963.0</td>\n",
       "      <td>9.973839e+04</td>\n",
       "      <td>57405.586966</td>\n",
       "      <td>90.07</td>\n",
       "      <td>50783.49</td>\n",
       "      <td>99645.04</td>\n",
       "      <td>1.486100e+05</td>\n",
       "      <td>199992.48</td>\n",
       "    </tr>\n",
       "    <tr>\n",
       "      <th>Exited</th>\n",
       "      <td>7963.0</td>\n",
       "      <td>0.000000e+00</td>\n",
       "      <td>0.000000</td>\n",
       "      <td>0.00</td>\n",
       "      <td>0.00</td>\n",
       "      <td>0.00</td>\n",
       "      <td>0.000000e+00</td>\n",
       "      <td>0.00</td>\n",
       "    </tr>\n",
       "  </tbody>\n",
       "</table>\n",
       "</div>"
      ],
      "text/plain": [
       "                  count          mean           std          min          25%  \\\n",
       "CustomerId       7963.0  1.569117e+07  71744.234941  15565701.00  15628818.50   \n",
       "CreditScore      7963.0  6.518532e+02     95.653837       405.00       585.00   \n",
       "Age              7963.0  3.740839e+01     10.125363        18.00        31.00   \n",
       "Tenure           7963.0  5.033279e+00      2.880658         0.00         3.00   \n",
       "Balance          7963.0  7.274530e+04  62848.040701         0.00         0.00   \n",
       "NumOfProducts    7963.0  1.544267e+00      0.509536         1.00         1.00   \n",
       "HasCrCard        7963.0  7.071455e-01      0.455101         0.00         0.00   \n",
       "IsActiveMember   7963.0  5.545649e-01      0.497045         0.00         0.00   \n",
       "EstimatedSalary  7963.0  9.973839e+04  57405.586966        90.07     50783.49   \n",
       "Exited           7963.0  0.000000e+00      0.000000         0.00         0.00   \n",
       "\n",
       "                         50%           75%          max  \n",
       "CustomerId       15691543.00  1.575335e+07  15815690.00  \n",
       "CreditScore           653.00  7.180000e+02       850.00  \n",
       "Age                    36.00  4.100000e+01        92.00  \n",
       "Tenure                  5.00  7.000000e+00        10.00  \n",
       "Balance             92072.68  1.264103e+05    221532.80  \n",
       "NumOfProducts           2.00  2.000000e+00         3.00  \n",
       "HasCrCard               1.00  1.000000e+00         1.00  \n",
       "IsActiveMember          1.00  1.000000e+00         1.00  \n",
       "EstimatedSalary     99645.04  1.486100e+05    199992.48  \n",
       "Exited                  0.00  0.000000e+00         0.00  "
      ]
     },
     "execution_count": 65,
     "metadata": {},
     "output_type": "execute_result"
    }
   ],
   "source": [
    "df_not_exited = df.loc[df[\"Exited\"]==0]\n",
    "df_not_exited.describe().T"
   ]
  },
  {
   "cell_type": "markdown",
   "metadata": {},
   "source": [
    "At first sight i don't see huge differences in the summary statistics of both groups. "
   ]
  },
  {
   "cell_type": "code",
   "execution_count": 66,
   "metadata": {},
   "outputs": [
    {
     "name": "stdout",
     "output_type": "stream",
     "text": [
      "Exited:\n",
      "Gender\n",
      "Female    1139\n",
      "Male       898\n",
      "Name: count, dtype: int64\n",
      "Stayed:\n",
      "Gender\n",
      "Male      4559\n",
      "Female    3404\n",
      "Name: count, dtype: int64\n"
     ]
    }
   ],
   "source": [
    "gender_count_E = df_exited[\"Gender\"].value_counts()\n",
    "print(\"Exited:\")\n",
    "print(gender_count_E) \n",
    "\n",
    "gender_count_NE = df_not_exited[\"Gender\"].value_counts()\n",
    "print(\"Stayed:\")\n",
    "print(gender_count_NE)\n",
    "\n"
   ]
  },
  {
   "cell_type": "code",
   "execution_count": 67,
   "metadata": {},
   "outputs": [
    {
     "name": "stdout",
     "output_type": "stream",
     "text": [
      "Percentage of women among exited people: 0.5591556210112911\n",
      "Percentage of women among people who stayed: 0.5725229184980535\n"
     ]
    }
   ],
   "source": [
    "women_perc_E = gender_count_E.values[0]/gender_count_E.values.sum()\n",
    "print(f\"Percentage of women among exited people: {float(women_perc_E)}\")\n",
    "\n",
    "women_perc_NE = gender_count_NE.values[0]/gender_count_NE.values.sum()\n",
    "print(f\"Percentage of women among people who stayed: {float(women_perc_NE)}\")"
   ]
  },
  {
   "cell_type": "markdown",
   "metadata": {},
   "source": [
    "Nothing significative in the gender gap? \n",
    "\n",
    "(Also sarah if you see this and see that im making rookie mistakes please dont hesitate to correct me)"
   ]
  },
  {
   "cell_type": "markdown",
   "metadata": {},
   "source": [
    "# Q1\n",
    "\n",
    "What is the churn rate among the bank's customers?"
   ]
  },
  {
   "cell_type": "markdown",
   "metadata": {},
   "source": [
    "`nunique`: count number of distinct elements in specified axis.\n"
   ]
  },
  {
   "cell_type": "code",
   "execution_count": 68,
   "metadata": {},
   "outputs": [
    {
     "name": "stdout",
     "output_type": "stream",
     "text": [
      "20.369999999999997\n"
     ]
    }
   ],
   "source": [
    "# getting total number of customers\n",
    "tot_customer = df[\"CustomerId\"].nunique()\n",
    "nbr_churned = df.loc[df[\"Exited\"]==1, \"CustomerId\"].nunique()\n",
    "\n",
    "churn_rate = (nbr_churned/tot_customer)*100\n",
    "print(churn_rate) # around 20%"
   ]
  },
  {
   "cell_type": "markdown",
   "metadata": {},
   "source": [
    "# Q2: How are the different variables (gender, age, geography, etc.) distributed in the dataset?\n",
    "\n",
    "first, observing the variables:"
   ]
  },
  {
   "cell_type": "code",
   "execution_count": 69,
   "metadata": {},
   "outputs": [
    {
     "data": {
      "text/plain": [
       "CustomerId           int64\n",
       "Surname             object\n",
       "CreditScore          int64\n",
       "Geography           object\n",
       "Gender              object\n",
       "Age                  int64\n",
       "Tenure               int64\n",
       "Balance            float64\n",
       "NumOfProducts        int64\n",
       "HasCrCard            int64\n",
       "IsActiveMember       int64\n",
       "EstimatedSalary    float64\n",
       "Exited               int64\n",
       "dtype: object"
      ]
     },
     "execution_count": 69,
     "metadata": {},
     "output_type": "execute_result"
    }
   ],
   "source": [
    "df.dtypes"
   ]
  },
  {
   "cell_type": "code",
   "execution_count": 70,
   "metadata": {},
   "outputs": [
    {
     "data": {
      "text/plain": [
       "Geography\n",
       "France     5014\n",
       "Germany    2509\n",
       "Spain      2477\n",
       "Name: count, dtype: int64"
      ]
     },
     "execution_count": 70,
     "metadata": {},
     "output_type": "execute_result"
    }
   ],
   "source": [
    "df[\"Geography\"].value_counts()"
   ]
  },
  {
   "cell_type": "markdown",
   "metadata": {},
   "source": [
    "The categorical variables seem to be Gender, HasCrCard, IsActiveMember, Exited, Geography.\n",
    "The quantitaticve variables seem to be Age, CreditScore, Tenure, Balance, NumOfProducts, EstimateSalary. \n",
    "What is Geography exactly?"
   ]
  },
  {
   "cell_type": "markdown",
   "metadata": {},
   "source": [
    "## Categorical variables\n",
    "### Gender"
   ]
  },
  {
   "cell_type": "code",
   "execution_count": 71,
   "metadata": {},
   "outputs": [
    {
     "data": {
      "text/plain": [
       "<Axes: xlabel='Gender', ylabel='proportion'>"
      ]
     },
     "execution_count": 71,
     "metadata": {},
     "output_type": "execute_result"
    },
    {
     "data": {
      "image/png": "[encoded data removed]",
      "text/plain": [
       "<Figure size 800x500 with 1 Axes>"
      ]
     },
     "metadata": {},
     "output_type": "display_data"
    }
   ],
   "source": [
    "fig, ax = plt.subplots(figsize = (8,5))\n",
    "sns.barplot(x = df[\"Gender\"].value_counts().index,\n",
    "            y = df[\"Gender\"].value_counts(normalize=True))"
   ]
  },
  {
   "cell_type": "code",
   "execution_count": 72,
   "metadata": {},
   "outputs": [
    {
     "data": {
      "image/png": "[encoded data removed]",
      "text/plain": [
       "<Figure size 640x480 with 1 Axes>"
      ]
     },
     "metadata": {},
     "output_type": "display_data"
    }
   ],
   "source": [
    "# I wanna find a way to make a stacked barplot, \n",
    "# grouped by exiting/satying, \n",
    "# but i cant figure it ouuuut\n",
    "total = df.groupby(\"Gender\")[\"Exited\"].sum().reset_index()\n",
    "\n",
    "# bar chart 1 -> top bars (group of 'smoker=No')\n",
    "bar1 = sns.barplot(x=\"Gender\",  y=\"Exited\", data=total, color='darkblue')\n",
    "\n",
    "# bottom bar ->  take only smoker=Yes values from the data\n",
    "out = df[df[\"Exited\"]==1]\n",
    "\n",
    "# bar chart 2 -> bottom bars (group of 'smoker=Yes')\n",
    "bar2 = sns.barplot(x=\"Gender\", y=\"Exited\", data=out, estimator=sum, color='lightblue')\n",
    "\n",
    "# add legend\n",
    "#top_bar = mpatches.Patch(color='darkblue', label='smoker = No')\n",
    "#bottom_bar = mpatches.Patch(color='lightblue', label='smoker = Yes')\n",
    "#plt.legend(handles=[top_bar, bottom_bar])\n",
    "\n",
    "# show the graph\n",
    "plt.show()"
   ]
  },
  {
   "cell_type": "markdown",
   "metadata": {},
   "source": [
    "### Geography"
   ]
  },
  {
   "cell_type": "code",
   "execution_count": 73,
   "metadata": {},
   "outputs": [
    {
     "data": {
      "text/plain": [
       "<Axes: xlabel='Geography', ylabel='proportion'>"
      ]
     },
     "execution_count": 73,
     "metadata": {},
     "output_type": "execute_result"
    },
    {
     "data": {
      "image/png": "[encoded data removed]",
      "text/plain": [
       "<Figure size 800x500 with 1 Axes>"
      ]
     },
     "metadata": {},
     "output_type": "display_data"
    }
   ],
   "source": [
    "fig, ax = plt.subplots(figsize = (8,5))\n",
    "sns.barplot(x = df[\"Geography\"].value_counts().index,\n",
    "            y = df[\"Geography\"].value_counts(normalize=True)#,\n",
    "            #y = df_exited[\"Geography\"].value_counts()\n",
    "            )"
   ]
  },
  {
   "cell_type": "markdown",
   "metadata": {},
   "source": [
    "France seem to be where the bank is most expanded, so it is probably the country this bank belongs to. Germany and Spain are probably newer clients of the bank.\n",
    "\n",
    "It would also be very interesting here to do a stacked barplot to compare who exited and who stayed in each country. If I managed to do a stacked barplot. \n",
    "\n",
    "Oh! If i managed to do it, actually, we could even create a loop that does all combinations of stacked barplots for all variables, and we could pick up on the most interesting ones to show!!!"
   ]
  },
  {
   "cell_type": "code",
   "execution_count": 118,
   "metadata": {},
   "outputs": [
    {
     "data": {
      "text/plain": [
       "Index([0, 1], dtype='int64', name='Exited')"
      ]
     },
     "execution_count": 118,
     "metadata": {},
     "output_type": "execute_result"
    }
   ],
   "source": [
    "groups_Geo_Exited = df.groupby(['Geography', 'Exited']).size().unstack().div(NRows)\n",
    "\n",
    "\n",
    "groups_Geo_Exited.columns"
   ]
  },
  {
   "cell_type": "code",
   "execution_count": 125,
   "metadata": {},
   "outputs": [
    {
     "data": {
      "image/png": "[encoded data removed]",
      "text/plain": [
       "<Figure size 800x500 with 1 Axes>"
      ]
     },
     "metadata": {},
     "output_type": "display_data"
    }
   ],
   "source": [
    "groups_Geo_Exited = df.groupby(['Geography', 'Exited']).size().unstack().div(NRows)\n",
    "\n",
    "fig, ax = plt.subplots(figsize=(8, 5))\n",
    "\n",
    "# Plot for Exited == 0 (non-exited) - Bottom layer of the stack\n",
    "ax.bar(groups_Geo_Exited.index, groups_Geo_Exited[0],\n",
    "       label='Stayed', color='lightblue'\n",
    "       )\n",
    "\n",
    "# Plot for Exited == 1 (exited) - Stacked on top\n",
    "ax.bar(groups_Geo_Exited.index,\n",
    "       groups_Geo_Exited[1],\n",
    "       bottom=groups_Geo_Exited[0],\n",
    "       label='Exited', color='salmon'\n",
    "       )\n",
    "\n",
    "ax.set_xlabel('Geography')\n",
    "ax.set_ylabel('Proportion of Customers')\n",
    "ax.set_title('Proportion of Exited and Non-Exited Customers by Geography')\n",
    "ax.legend()\n",
    "\n",
    "plt.show()"
   ]
  },
  {
   "cell_type": "markdown",
   "metadata": {},
   "source": [
    "### Has Credit Card"
   ]
  },
  {
   "cell_type": "code",
   "execution_count": 74,
   "metadata": {},
   "outputs": [
    {
     "name": "stderr",
     "output_type": "stream",
     "text": [
      "/var/folders/cr/71dt26rx1ljbqzzzxpwv5g6r0000gn/T/ipykernel_51922/4140223361.py:6: UserWarning: set_ticklabels() should only be used with a fixed number of ticks, i.e. after set_ticks() or using a FixedLocator.\n",
      "  ax.set_xticklabels([\"No\", \"Yes\"])\n"
     ]
    },
    {
     "data": {
      "image/png": "[encoded data removed]",
      "text/plain": [
       "<Figure size 800x500 with 1 Axes>"
      ]
     },
     "metadata": {},
     "output_type": "display_data"
    }
   ],
   "source": [
    "fig, ax = plt.subplots(figsize = (8,5))\n",
    "sns.barplot(\n",
    "            x = df[\"HasCrCard\"].value_counts().index,\n",
    "            y = df[\"HasCrCard\"].value_counts(normalize=True)\n",
    "            )\n",
    "ax.set_xticklabels([\"No\", \"Yes\"])\n",
    "plt.show()"
   ]
  },
  {
   "cell_type": "markdown",
   "metadata": {},
   "source": [
    "### Exited"
   ]
  },
  {
   "cell_type": "code",
   "execution_count": 75,
   "metadata": {},
   "outputs": [
    {
     "name": "stderr",
     "output_type": "stream",
     "text": [
      "/var/folders/cr/71dt26rx1ljbqzzzxpwv5g6r0000gn/T/ipykernel_51922/1486963109.py:6: UserWarning: set_ticklabels() should only be used with a fixed number of ticks, i.e. after set_ticks() or using a FixedLocator.\n",
      "  ax.set_xticklabels([\"No\", \"Yes\"])\n"
     ]
    },
    {
     "data": {
      "image/png": "[encoded data removed]",
      "text/plain": [
       "<Figure size 800x500 with 1 Axes>"
      ]
     },
     "metadata": {},
     "output_type": "display_data"
    }
   ],
   "source": [
    "fig, ax = plt.subplots(figsize = (8,5))\n",
    "sns.barplot(\n",
    "            x = df[\"Exited\"].value_counts().index,\n",
    "            y = df[\"Exited\"].value_counts(normalize=True)\n",
    "            )\n",
    "ax.set_xticklabels([\"No\", \"Yes\"])\n",
    "plt.show()"
   ]
  },
  {
   "cell_type": "markdown",
   "metadata": {},
   "source": [
    "## Quantitative variables\n",
    "The quantitaticve variables seem to be Age, CreditScore, Tenure, Balance, NumOfProducts, EstimateSalary. \n",
    "\n",
    "### Age\n"
   ]
  },
  {
   "cell_type": "code",
   "execution_count": 76,
   "metadata": {},
   "outputs": [
    {
     "data": {
      "text/plain": [
       "[Text(0.5, 1.0, 'Age distribution (count)'),\n",
       " Text(0.5, 0, 'Age (years)'),\n",
       " Text(0, 0.5, 'frequency')]"
      ]
     },
     "execution_count": 76,
     "metadata": {},
     "output_type": "execute_result"
    },
    {
     "data": {
      "image/png": "[encoded data removed]",
      "text/plain": [
       "<Figure size 700x500 with 1 Axes>"
      ]
     },
     "metadata": {},
     "output_type": "display_data"
    }
   ],
   "source": [
    "fig, ax = plt.subplots(figsize=[7, 5])\n",
    "\n",
    "sns.histplot(\n",
    "    x = df[\"Age\"],#.value_counts()), \n",
    "    #y = df_exited[\"Age\"].value_counts(normalize=True),\n",
    "    binwidth = 5,\n",
    "    color=\"steelblue\",\n",
    "    edgecolor = \"black\"\n",
    ")\n",
    "\n",
    "ax.set(\n",
    "    title = \"Age distribution (count)\",\n",
    "    xlabel = \"Age (years)\",\n",
    "    ylabel = \"frequency\"\n",
    ")"
   ]
  },
  {
   "cell_type": "code",
   "execution_count": 77,
   "metadata": {},
   "outputs": [
    {
     "data": {
      "text/plain": [
       "[Text(0.5, 1.0, 'Age distribution (frequency)'),\n",
       " Text(0.5, 0, 'Age (years)'),\n",
       " Text(0, 0.5, 'frequency')]"
      ]
     },
     "execution_count": 77,
     "metadata": {},
     "output_type": "execute_result"
    },
    {
     "data": {
      "image/png": "[encoded data removed]",
      "text/plain": [
       "<Figure size 700x500 with 1 Axes>"
      ]
     },
     "metadata": {},
     "output_type": "display_data"
    }
   ],
   "source": [
    "fig, ax = plt.subplots(figsize=[7, 5])\n",
    "\n",
    "sns.histplot(\n",
    "    x = df[\"Age\"],#.value_counts()), \n",
    "    #y = df_exited[\"Age\"].value_counts(normalize=True),\n",
    "    stat = \"frequency\",\n",
    "    binwidth = 5,\n",
    "    color=\"steelblue\",\n",
    "    edgecolor = \"black\"\n",
    ")\n",
    "\n",
    "ax.set(\n",
    "    title = \"Age distribution (frequency)\",\n",
    "    xlabel = \"Age (years)\",\n",
    "    ylabel = \"frequency\"\n",
    ")"
   ]
  },
  {
   "cell_type": "markdown",
   "metadata": {},
   "source": [
    "### "
   ]
  }
 ],
 "metadata": {
  "kernelspec": {
   "display_name": "python-project-Sarah-Sofia",
   "language": "python",
   "name": "python3"
  },
  "language_info": {
   "codemirror_mode": {
    "name": "ipython",
    "version": 3
   },
   "file_extension": ".py",
   "mimetype": "text/x-python",
   "name": "python",
   "nbconvert_exporter": "python",
   "pygments_lexer": "ipython3",
   "version": "3.12.2"
  }
 },
 "nbformat": 4,
 "nbformat_minor": 2
}
