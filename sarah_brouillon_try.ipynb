{
 "cells": [
  {
   "cell_type": "code",
   "execution_count": 1,
   "metadata": {},
   "outputs": [],
   "source": [
    "import pandas as pd \n",
    "import numpy as np\n",
    "import seaborn as sns"
   ]
  },
  {
   "cell_type": "markdown",
   "metadata": {},
   "source": [
    "LOADING THE DATA"
   ]
  },
  {
   "cell_type": "code",
   "execution_count": 2,
   "metadata": {},
   "outputs": [],
   "source": [
    "df_full = pd.read_csv(\"churn_bank.csv\") #if already in the repo, otherwise use the full path"
   ]
  },
  {
   "cell_type": "markdown",
   "metadata": {},
   "source": [
    "Let's play a bit with the data just to see les premières tendances:\n",
    "Isoler les personnes ayant quitté la banque dans un premier temps: "
   ]
  },
  {
   "cell_type": "code",
   "execution_count": 3,
   "metadata": {},
   "outputs": [
    {
     "data": {
      "text/html": [
       "<div>\n",
       "<style scoped>\n",
       "    .dataframe tbody tr th:only-of-type {\n",
       "        vertical-align: middle;\n",
       "    }\n",
       "\n",
       "    .dataframe tbody tr th {\n",
       "        vertical-align: top;\n",
       "    }\n",
       "\n",
       "    .dataframe thead th {\n",
       "        text-align: right;\n",
       "    }\n",
       "</style>\n",
       "<table border=\"1\" class=\"dataframe\">\n",
       "  <thead>\n",
       "    <tr style=\"text-align: right;\">\n",
       "      <th></th>\n",
       "      <th>count</th>\n",
       "      <th>mean</th>\n",
       "      <th>std</th>\n",
       "      <th>min</th>\n",
       "      <th>25%</th>\n",
       "      <th>50%</th>\n",
       "      <th>75%</th>\n",
       "      <th>max</th>\n",
       "    </tr>\n",
       "  </thead>\n",
       "  <tbody>\n",
       "    <tr>\n",
       "      <th>CustomerId</th>\n",
       "      <td>2037.0</td>\n",
       "      <td>1.569005e+07</td>\n",
       "      <td>72692.623920</td>\n",
       "      <td>15565706.00</td>\n",
       "      <td>15627360.00</td>\n",
       "      <td>15688963.00</td>\n",
       "      <td>15753092.00</td>\n",
       "      <td>15815656.00</td>\n",
       "    </tr>\n",
       "    <tr>\n",
       "      <th>CreditScore</th>\n",
       "      <td>2037.0</td>\n",
       "      <td>6.453515e+02</td>\n",
       "      <td>100.321503</td>\n",
       "      <td>350.00</td>\n",
       "      <td>578.00</td>\n",
       "      <td>646.00</td>\n",
       "      <td>716.00</td>\n",
       "      <td>850.00</td>\n",
       "    </tr>\n",
       "    <tr>\n",
       "      <th>Age</th>\n",
       "      <td>2037.0</td>\n",
       "      <td>4.483800e+01</td>\n",
       "      <td>9.761562</td>\n",
       "      <td>18.00</td>\n",
       "      <td>38.00</td>\n",
       "      <td>45.00</td>\n",
       "      <td>51.00</td>\n",
       "      <td>84.00</td>\n",
       "    </tr>\n",
       "    <tr>\n",
       "      <th>Tenure</th>\n",
       "      <td>2037.0</td>\n",
       "      <td>4.932744e+00</td>\n",
       "      <td>2.936106</td>\n",
       "      <td>0.00</td>\n",
       "      <td>2.00</td>\n",
       "      <td>5.00</td>\n",
       "      <td>8.00</td>\n",
       "      <td>10.00</td>\n",
       "    </tr>\n",
       "    <tr>\n",
       "      <th>Balance</th>\n",
       "      <td>2037.0</td>\n",
       "      <td>9.110854e+04</td>\n",
       "      <td>58360.794816</td>\n",
       "      <td>0.00</td>\n",
       "      <td>38340.02</td>\n",
       "      <td>109349.29</td>\n",
       "      <td>131433.33</td>\n",
       "      <td>250898.09</td>\n",
       "    </tr>\n",
       "    <tr>\n",
       "      <th>NumOfProducts</th>\n",
       "      <td>2037.0</td>\n",
       "      <td>1.475209e+00</td>\n",
       "      <td>0.801521</td>\n",
       "      <td>1.00</td>\n",
       "      <td>1.00</td>\n",
       "      <td>1.00</td>\n",
       "      <td>2.00</td>\n",
       "      <td>4.00</td>\n",
       "    </tr>\n",
       "    <tr>\n",
       "      <th>HasCrCard</th>\n",
       "      <td>2037.0</td>\n",
       "      <td>6.990673e-01</td>\n",
       "      <td>0.458776</td>\n",
       "      <td>0.00</td>\n",
       "      <td>0.00</td>\n",
       "      <td>1.00</td>\n",
       "      <td>1.00</td>\n",
       "      <td>1.00</td>\n",
       "    </tr>\n",
       "    <tr>\n",
       "      <th>IsActiveMember</th>\n",
       "      <td>2037.0</td>\n",
       "      <td>3.608247e-01</td>\n",
       "      <td>0.480358</td>\n",
       "      <td>0.00</td>\n",
       "      <td>0.00</td>\n",
       "      <td>0.00</td>\n",
       "      <td>1.00</td>\n",
       "      <td>1.00</td>\n",
       "    </tr>\n",
       "    <tr>\n",
       "      <th>EstimatedSalary</th>\n",
       "      <td>2037.0</td>\n",
       "      <td>1.014657e+05</td>\n",
       "      <td>57912.418071</td>\n",
       "      <td>11.58</td>\n",
       "      <td>51907.72</td>\n",
       "      <td>102460.84</td>\n",
       "      <td>152422.91</td>\n",
       "      <td>199808.10</td>\n",
       "    </tr>\n",
       "    <tr>\n",
       "      <th>Exited</th>\n",
       "      <td>2037.0</td>\n",
       "      <td>1.000000e+00</td>\n",
       "      <td>0.000000</td>\n",
       "      <td>1.00</td>\n",
       "      <td>1.00</td>\n",
       "      <td>1.00</td>\n",
       "      <td>1.00</td>\n",
       "      <td>1.00</td>\n",
       "    </tr>\n",
       "  </tbody>\n",
       "</table>\n",
       "</div>"
      ],
      "text/plain": [
       "                  count          mean           std          min          25%  \\\n",
       "CustomerId       2037.0  1.569005e+07  72692.623920  15565706.00  15627360.00   \n",
       "CreditScore      2037.0  6.453515e+02    100.321503       350.00       578.00   \n",
       "Age              2037.0  4.483800e+01      9.761562        18.00        38.00   \n",
       "Tenure           2037.0  4.932744e+00      2.936106         0.00         2.00   \n",
       "Balance          2037.0  9.110854e+04  58360.794816         0.00     38340.02   \n",
       "NumOfProducts    2037.0  1.475209e+00      0.801521         1.00         1.00   \n",
       "HasCrCard        2037.0  6.990673e-01      0.458776         0.00         0.00   \n",
       "IsActiveMember   2037.0  3.608247e-01      0.480358         0.00         0.00   \n",
       "EstimatedSalary  2037.0  1.014657e+05  57912.418071        11.58     51907.72   \n",
       "Exited           2037.0  1.000000e+00      0.000000         1.00         1.00   \n",
       "\n",
       "                         50%          75%          max  \n",
       "CustomerId       15688963.00  15753092.00  15815656.00  \n",
       "CreditScore           646.00       716.00       850.00  \n",
       "Age                    45.00        51.00        84.00  \n",
       "Tenure                  5.00         8.00        10.00  \n",
       "Balance            109349.29    131433.33    250898.09  \n",
       "NumOfProducts           1.00         2.00         4.00  \n",
       "HasCrCard               1.00         1.00         1.00  \n",
       "IsActiveMember          0.00         1.00         1.00  \n",
       "EstimatedSalary    102460.84    152422.91    199808.10  \n",
       "Exited                  1.00         1.00         1.00  "
      ]
     },
     "execution_count": 3,
     "metadata": {},
     "output_type": "execute_result"
    }
   ],
   "source": [
    "df_exited = df_full.loc[df_full[\"Exited\"]==1]\n",
    "df_exited.describe().T\n",
    "\n",
    "# gender_count = df_exited[\"Gender\"].value_counts()\n",
    "# print(gender_count) #more female left the bank 1139 vs 898"
   ]
  },
  {
   "cell_type": "markdown",
   "metadata": {},
   "source": [
    "QUESTIONS\n",
    "\n",
    "What is the churn rate among the bank's customers?"
   ]
  },
  {
   "cell_type": "code",
   "execution_count": null,
   "metadata": {},
   "outputs": [
    {
     "name": "stdout",
     "output_type": "stream",
     "text": [
      "20.369999999999997\n"
     ]
    }
   ],
   "source": [
    "# getting total number of customers\n",
    "tot_customer = df_full[\"CustomerId\"].nunique()\n",
    "nbr_churned = df_full.loc[df_full[\"Exited\"]==1, \"CustomerId\"].count()\n",
    "\n",
    "churn_rate = (nbr_churned/tot_customer)*100\n",
    "print(churn_rate) # around 20%"
   ]
  },
  {
   "cell_type": "markdown",
   "metadata": {},
   "source": [
    "How are the different variables (gender, age, geography, etc.) distributed in the dataset?"
   ]
  },
  {
   "cell_type": "code",
   "execution_count": 4,
   "metadata": {},
   "outputs": [
    {
     "name": "stdout",
     "output_type": "stream",
     "text": [
      "Age\n",
      "37    478\n",
      "38    477\n",
      "35    474\n",
      "36    456\n",
      "34    447\n",
      "     ... \n",
      "92      2\n",
      "82      1\n",
      "88      1\n",
      "85      1\n",
      "83      1\n",
      "Name: count, Length: 70, dtype: int64\n",
      "Gender\n",
      "Male      5457\n",
      "Female    4543\n",
      "Name: count, dtype: int64\n",
      "Geography\n",
      "France     5014\n",
      "Germany    2509\n",
      "Spain      2477\n",
      "Name: count, dtype: int64\n"
     ]
    },
    {
     "data": {
      "image/png": "[encoded data removed]",
      "text/plain": [
       "<Figure size 640x480 with 1 Axes>"
      ]
     },
     "metadata": {},
     "output_type": "display_data"
    }
   ],
   "source": [
    "desc = df_full[['Age', 'Gender', 'Geography', 'Tenure']].describe(include='all').T\n",
    "\n",
    "# quick plot for Age distribution to get a visual idea\n",
    "sns.histplot(\n",
    "    data=df_full,\n",
    "    x=\"Age\",\n",
    "    color=\"steelblue\",\n",
    "    edgecolor=\"black\")\n",
    "# checking for weird values of count > 600 \n",
    "age_counts = df_full['Age'].value_counts() \n",
    "print(age_counts) #TODO. double check here odd \n",
    "\n",
    "\n",
    "# pas très parlant pour les non numericals, donc maybe like this will be better: \n",
    "gender_count = df_full[\"Gender\"].value_counts()\n",
    "print(gender_count) #more female left the bank 1139 vs 898\n",
    "geo_distribution = df_full[\"Geography\"].value_counts()\n",
    "print(geo_distribution) #nbr of obs: France 5014, Germany 2509, Spain 2477\n",
    "\n",
    "\n"
   ]
  },
  {
   "cell_type": "markdown",
   "metadata": {},
   "source": [
    "How do the different variables interact with each other?"
   ]
  },
  {
   "cell_type": "code",
   "execution_count": null,
   "metadata": {},
   "outputs": [],
   "source": []
  }
 ],
 "metadata": {
  "kernelspec": {
   "display_name": "Python 3",
   "language": "python",
   "name": "python3"
  },
  "language_info": {
   "codemirror_mode": {
    "name": "ipython",
    "version": 3
   },
   "file_extension": ".py",
   "mimetype": "text/x-python",
   "name": "python",
   "nbconvert_exporter": "python",
   "pygments_lexer": "ipython3",
   "version": "3.12.2"
  }
 },
 "nbformat": 4,
 "nbformat_minor": 2
}
